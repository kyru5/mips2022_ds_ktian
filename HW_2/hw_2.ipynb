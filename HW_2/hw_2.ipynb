{
 "cells": [
  {
   "cell_type": "code",
   "execution_count": 324,
   "id": "e1225fa8-c6c6-48a8-9524-55d65d12d63b",
   "metadata": {},
   "outputs": [],
   "source": [
    "import pandas as pd\n",
    "import os\n",
    "# import matplotlib.pyplot as plt"
   ]
  },
  {
   "cell_type": "code",
   "execution_count": 325,
   "id": "4f73eb95-c925-48b6-af04-670aba0bbff1",
   "metadata": {},
   "outputs": [],
   "source": [
    "pd.set_option('display.max_columns', None)    # Хотим видеть все признаки / колонки в выводах\n",
    "os.chdir('/Users/keyreeltian/Documents/GitHub/mips2022_ds_ktian/HW_2')    # здесь наши csv-файлы"
   ]
  },
  {
   "cell_type": "code",
   "execution_count": 326,
   "id": "2cfa355c-4832-425d-9b76-af4a958a603e",
   "metadata": {},
   "outputs": [],
   "source": [
    "# dataset_fragment = 500_000 # Определим такое число записей, которое возьмем из файла train\n",
    "dataset_fragment = 700_000    \n",
    "# dataset_fragment = 101_230_332   # Столько записей всего в train \n",
    "head_tail_slice = 500    # Сравнительный статистический анализ проведем \n",
    "# между выборками из \"чемпионов\" и \"аутсайдеров\""
   ]
  },
  {
   "cell_type": "code",
   "execution_count": 327,
   "id": "0664584a-65ac-4c5c-b313-427e9ce837f5",
   "metadata": {},
   "outputs": [],
   "source": [
    "# Создадим 2 версии датасета - полную и укороченную\n",
    "# Для интенсивных вычислений будем использовать укороченную\n",
    "tdf_full = pd.read_csv('data/train.csv')\n",
    "tdf = tdf_full.loc[:dataset_fragment].copy()"
   ]
  },
  {
   "cell_type": "code",
   "execution_count": 328,
   "id": "65446b69-c5e5-4b26-9d70-8d88d4978789",
   "metadata": {},
   "outputs": [
    {
     "name": "stdout",
     "output_type": "stream",
     "text": [
      "<class 'pandas.core.frame.DataFrame'>\n",
      "RangeIndex: 101230332 entries, 0 to 101230331\n",
      "Data columns (total 10 columns):\n",
      " #   Column                          Dtype  \n",
      "---  ------                          -----  \n",
      " 0   row_id                          int64  \n",
      " 1   timestamp                       int64  \n",
      " 2   user_id                         int64  \n",
      " 3   content_id                      int64  \n",
      " 4   content_type_id                 int64  \n",
      " 5   task_container_id               int64  \n",
      " 6   user_answer                     int64  \n",
      " 7   answered_correctly              int64  \n",
      " 8   prior_question_elapsed_time     float64\n",
      " 9   prior_question_had_explanation  object \n",
      "dtypes: float64(1), int64(8), object(1)\n",
      "memory usage: 7.5+ GB\n"
     ]
    }
   ],
   "source": [
    "# Посмотрим параметры датасета train\n",
    "tdf_full.info()"
   ]
  },
  {
   "cell_type": "code",
   "execution_count": 329,
   "id": "ee82264c-da4c-4c95-88be-6f155e760770",
   "metadata": {},
   "outputs": [
    {
     "data": {
      "text/plain": [
       "row_id                            0.000000\n",
       "timestamp                         0.000000\n",
       "user_id                           0.000000\n",
       "content_id                        0.000000\n",
       "content_type_id                   0.000000\n",
       "task_container_id                 0.000000\n",
       "user_answer                       0.000000\n",
       "answered_correctly                0.000000\n",
       "prior_question_elapsed_time       0.023230\n",
       "prior_question_had_explanation    0.003877\n",
       "dtype: float64"
      ]
     },
     "execution_count": 329,
     "metadata": {},
     "output_type": "execute_result"
    }
   ],
   "source": [
    "# Проверяем tdf на пустые значения и видим, что колонки prior_question_elapsed_time и\n",
    "# prior_question_had_explanation содержат пустые значения\n",
    "tdf_full.isna().mean()"
   ]
  },
  {
   "cell_type": "code",
   "execution_count": 330,
   "id": "fb7aff1d-58a2-4378-8700-56f0e85dce46",
   "metadata": {},
   "outputs": [],
   "source": [
    "# Создадим множество, содержащее список уникальных идентификаторов студентов\n",
    "users = set(tdf.user_id)"
   ]
  },
  {
   "cell_type": "code",
   "execution_count": 331,
   "id": "efedcc83-7f16-435b-b72e-26054d08a17f",
   "metadata": {},
   "outputs": [],
   "source": [
    "new_df = pd.DataFrame({'user_id': [],\n",
    "                       'lectures_attended': [],\n",
    "                       'correct_answers': [],\n",
    "                       'incorrect_answers': [],\n",
    "                       'correct_answers_rate': [],\n",
    "                       'prior_question_had_explanation': [],\n",
    "                       'car_pqhe_index': [] # Это разница между средней оценкой, когда\n",
    "                       # были разъяснения на предыдущий блок вопросов (prior_question_had_explanation)\n",
    "                       # и средней, когда разъяснений не было.\n",
    "                       # Данный индекс проверяет предполагаемую связь важности иметь такие разъяснения,\n",
    "                       # которые оказывают положительное влияние на усвоение знаний и будущие ответы\n",
    "                      })\n",
    "\n",
    "for u in users:\n",
    "    new_row = {}\n",
    "\n",
    "    # добавляем в список user_id\n",
    "    new_row['user_id'] = int(u)\n",
    "    \n",
    "    # добавляем в список кол-во посещений лекций (можно было сделать по признаку content_type_id == 1)\n",
    "    new_row['lectures_attended'] = tdf[(tdf.user_id == u) & (tdf.answered_correctly == -1)].shape[0]\n",
    "    \n",
    "    # добавляем в список кол-во правильных ответов\n",
    "    correct = tdf[(tdf.user_id == u) & (tdf.answered_correctly == 1)].shape[0]\n",
    "    new_row['correct_answers'] = correct\n",
    "    \n",
    "    # добавляем в список кол-во неправильных ответов\n",
    "    incorrect = tdf[(tdf.user_id == u) & (tdf.answered_correctly == 0)].shape[0]\n",
    "    new_row['incorrect_answers'] = incorrect\n",
    "    \n",
    "    # добавляем в список долю правильных ответов к общему кол-ву вопросов\n",
    "    new_row['correct_answers_rate'] = (correct / (correct + incorrect))\n",
    "    \n",
    "    # добавляем в список кол-во правильных ответов с разъяснениями (для предыдущего блока вопросов)\n",
    "    new_row['prior_question_had_explanation'] = round(tdf[(tdf.user_id == u) & \\\n",
    "                                                (tdf.prior_question_had_explanation == True)].shape[0], 2)\n",
    "    \n",
    "    # добавляем индекс car_pqhe_index\n",
    "    new_row['car_pqhe_index'] = tdf[(tdf.user_id == u) & \\\n",
    "                                    (tdf.prior_question_had_explanation == True)].answered_correctly.mean() - \\\n",
    "            tdf[(tdf.user_id == u) & (tdf.prior_question_had_explanation == False)].answered_correctly.mean()\n",
    "    \n",
    "    # добавляем новую строку в наш создаваемый для анализа датасет new_df\n",
    "    new_df_row = pd.DataFrame(new_row, index=[u])\n",
    "    new_df = pd.concat([new_df, new_df_row], ignore_index=False)\n",
    "    "
   ]
  },
  {
   "cell_type": "code",
   "execution_count": 332,
   "id": "ea5d2aac-2af8-4c32-9a92-3469aab4822e",
   "metadata": {},
   "outputs": [
    {
     "data": {
      "text/plain": [
       "2638"
      ]
     },
     "execution_count": 332,
     "metadata": {},
     "output_type": "execute_result"
    }
   ],
   "source": [
    "# узнаем размер нашего датасета (кол-во студентов)\n",
    "new_df.shape[0]"
   ]
  },
  {
   "cell_type": "code",
   "execution_count": 333,
   "id": "6ad3f4e7-b2d0-475e-8893-25f66f872de6",
   "metadata": {},
   "outputs": [
    {
     "data": {
      "text/html": [
       "<div>\n",
       "<style scoped>\n",
       "    .dataframe tbody tr th:only-of-type {\n",
       "        vertical-align: middle;\n",
       "    }\n",
       "\n",
       "    .dataframe tbody tr th {\n",
       "        vertical-align: top;\n",
       "    }\n",
       "\n",
       "    .dataframe thead th {\n",
       "        text-align: right;\n",
       "    }\n",
       "</style>\n",
       "<table border=\"1\" class=\"dataframe\">\n",
       "  <thead>\n",
       "    <tr style=\"text-align: right;\">\n",
       "      <th></th>\n",
       "      <th>user_id</th>\n",
       "      <th>lectures_attended</th>\n",
       "      <th>correct_answers</th>\n",
       "      <th>incorrect_answers</th>\n",
       "      <th>correct_answers_rate</th>\n",
       "      <th>prior_question_had_explanation</th>\n",
       "      <th>car_pqhe_index</th>\n",
       "    </tr>\n",
       "  </thead>\n",
       "  <tbody>\n",
       "    <tr>\n",
       "      <th>1283420</th>\n",
       "      <td>1283420.0</td>\n",
       "      <td>93.0</td>\n",
       "      <td>6196.0</td>\n",
       "      <td>1280.0</td>\n",
       "      <td>0.828785</td>\n",
       "      <td>7465.0</td>\n",
       "      <td>1.693415</td>\n",
       "    </tr>\n",
       "    <tr>\n",
       "      <th>4421282</th>\n",
       "      <td>4421282.0</td>\n",
       "      <td>2.0</td>\n",
       "      <td>5271.0</td>\n",
       "      <td>1689.0</td>\n",
       "      <td>0.757328</td>\n",
       "      <td>6929.0</td>\n",
       "      <td>0.352157</td>\n",
       "    </tr>\n",
       "    <tr>\n",
       "      <th>3838215</th>\n",
       "      <td>3838215.0</td>\n",
       "      <td>123.0</td>\n",
       "      <td>5120.0</td>\n",
       "      <td>1643.0</td>\n",
       "      <td>0.757060</td>\n",
       "      <td>6419.0</td>\n",
       "      <td>0.520523</td>\n",
       "    </tr>\n",
       "    <tr>\n",
       "      <th>11610328</th>\n",
       "      <td>11610328.0</td>\n",
       "      <td>13.0</td>\n",
       "      <td>5055.0</td>\n",
       "      <td>1485.0</td>\n",
       "      <td>0.772936</td>\n",
       "      <td>6527.0</td>\n",
       "      <td>1.093709</td>\n",
       "    </tr>\n",
       "    <tr>\n",
       "      <th>9418512</th>\n",
       "      <td>9418512.0</td>\n",
       "      <td>221.0</td>\n",
       "      <td>4421.0</td>\n",
       "      <td>2840.0</td>\n",
       "      <td>0.608869</td>\n",
       "      <td>7118.0</td>\n",
       "      <td>1.018419</td>\n",
       "    </tr>\n",
       "  </tbody>\n",
       "</table>\n",
       "</div>"
      ],
      "text/plain": [
       "             user_id  lectures_attended  correct_answers  incorrect_answers  \\\n",
       "1283420    1283420.0               93.0           6196.0             1280.0   \n",
       "4421282    4421282.0                2.0           5271.0             1689.0   \n",
       "3838215    3838215.0              123.0           5120.0             1643.0   \n",
       "11610328  11610328.0               13.0           5055.0             1485.0   \n",
       "9418512    9418512.0              221.0           4421.0             2840.0   \n",
       "\n",
       "          correct_answers_rate  prior_question_had_explanation  car_pqhe_index  \n",
       "1283420               0.828785                          7465.0        1.693415  \n",
       "4421282               0.757328                          6929.0        0.352157  \n",
       "3838215               0.757060                          6419.0        0.520523  \n",
       "11610328              0.772936                          6527.0        1.093709  \n",
       "9418512               0.608869                          7118.0        1.018419  "
      ]
     },
     "execution_count": 333,
     "metadata": {},
     "output_type": "execute_result"
    }
   ],
   "source": [
    "# Отсортируем наш новый датасет по колонке correct_answers и визуальный анализ сразу \n",
    "# покажет корреляцию между кол-вом посещенных лекций, разъяснений на предыдущий вопрос теста и доли \n",
    "# правильных ответов от общего количества тестов\n",
    "new_df = new_df.sort_values(by='correct_answers', ascending=False)\n",
    "new_df.head()"
   ]
  },
  {
   "cell_type": "code",
   "execution_count": 334,
   "id": "a3876af4-bcba-4756-97a4-d433fe766f6e",
   "metadata": {},
   "outputs": [
    {
     "data": {
      "text/html": [
       "<div>\n",
       "<style scoped>\n",
       "    .dataframe tbody tr th:only-of-type {\n",
       "        vertical-align: middle;\n",
       "    }\n",
       "\n",
       "    .dataframe tbody tr th {\n",
       "        vertical-align: top;\n",
       "    }\n",
       "\n",
       "    .dataframe thead th {\n",
       "        text-align: right;\n",
       "    }\n",
       "</style>\n",
       "<table border=\"1\" class=\"dataframe\">\n",
       "  <thead>\n",
       "    <tr style=\"text-align: right;\">\n",
       "      <th></th>\n",
       "      <th>user_id</th>\n",
       "      <th>lectures_attended</th>\n",
       "      <th>correct_answers</th>\n",
       "      <th>incorrect_answers</th>\n",
       "      <th>correct_answers_rate</th>\n",
       "      <th>prior_question_had_explanation</th>\n",
       "      <th>car_pqhe_index</th>\n",
       "    </tr>\n",
       "  </thead>\n",
       "  <tbody>\n",
       "    <tr>\n",
       "      <th>11814782</th>\n",
       "      <td>11814782.0</td>\n",
       "      <td>0.0</td>\n",
       "      <td>1.0</td>\n",
       "      <td>10.0</td>\n",
       "      <td>0.090909</td>\n",
       "      <td>0.0</td>\n",
       "      <td>NaN</td>\n",
       "    </tr>\n",
       "    <tr>\n",
       "      <th>2148001</th>\n",
       "      <td>2148001.0</td>\n",
       "      <td>0.0</td>\n",
       "      <td>1.0</td>\n",
       "      <td>1.0</td>\n",
       "      <td>0.500000</td>\n",
       "      <td>0.0</td>\n",
       "      <td>NaN</td>\n",
       "    </tr>\n",
       "    <tr>\n",
       "      <th>13052084</th>\n",
       "      <td>13052084.0</td>\n",
       "      <td>0.0</td>\n",
       "      <td>1.0</td>\n",
       "      <td>11.0</td>\n",
       "      <td>0.083333</td>\n",
       "      <td>4.0</td>\n",
       "      <td>0.25</td>\n",
       "    </tr>\n",
       "    <tr>\n",
       "      <th>6581221</th>\n",
       "      <td>6581221.0</td>\n",
       "      <td>0.0</td>\n",
       "      <td>1.0</td>\n",
       "      <td>11.0</td>\n",
       "      <td>0.083333</td>\n",
       "      <td>0.0</td>\n",
       "      <td>NaN</td>\n",
       "    </tr>\n",
       "    <tr>\n",
       "      <th>1360462</th>\n",
       "      <td>1360462.0</td>\n",
       "      <td>0.0</td>\n",
       "      <td>0.0</td>\n",
       "      <td>7.0</td>\n",
       "      <td>0.000000</td>\n",
       "      <td>0.0</td>\n",
       "      <td>NaN</td>\n",
       "    </tr>\n",
       "  </tbody>\n",
       "</table>\n",
       "</div>"
      ],
      "text/plain": [
       "             user_id  lectures_attended  correct_answers  incorrect_answers  \\\n",
       "11814782  11814782.0                0.0              1.0               10.0   \n",
       "2148001    2148001.0                0.0              1.0                1.0   \n",
       "13052084  13052084.0                0.0              1.0               11.0   \n",
       "6581221    6581221.0                0.0              1.0               11.0   \n",
       "1360462    1360462.0                0.0              0.0                7.0   \n",
       "\n",
       "          correct_answers_rate  prior_question_had_explanation  car_pqhe_index  \n",
       "11814782              0.090909                             0.0             NaN  \n",
       "2148001               0.500000                             0.0             NaN  \n",
       "13052084              0.083333                             4.0            0.25  \n",
       "6581221               0.083333                             0.0             NaN  \n",
       "1360462               0.000000                             0.0             NaN  "
      ]
     },
     "execution_count": 334,
     "metadata": {},
     "output_type": "execute_result"
    }
   ],
   "source": [
    "new_df.tail()"
   ]
  },
  {
   "cell_type": "code",
   "execution_count": 335,
   "id": "ef4975ca-496c-4869-8724-83756544ef6e",
   "metadata": {},
   "outputs": [
    {
     "data": {
      "text/plain": [
       "0.7549589764993941"
      ]
     },
     "execution_count": 335,
     "metadata": {},
     "output_type": "execute_result"
    }
   ],
   "source": [
    "# Давайте вычислим средний correct_answers_rate для первых head_tail_slice студентов\n",
    "new_df.sort_values(by='correct_answers_rate', ascending=False).head(head_tail_slice).correct_answers_rate.mean()"
   ]
  },
  {
   "cell_type": "code",
   "execution_count": 336,
   "id": "dd419065-1293-4b1a-85bf-a5c8580be8f9",
   "metadata": {},
   "outputs": [
    {
     "data": {
      "text/plain": [
       "0.2869350440628738"
      ]
     },
     "execution_count": 336,
     "metadata": {},
     "output_type": "execute_result"
    }
   ],
   "source": [
    "# ... и последних head_tail_slice студентов и сравним результаты\n",
    "new_df.sort_values(by='correct_answers_rate', ascending=False).tail(head_tail_slice).correct_answers_rate.mean()\n",
    "# как видим, разница показателя более, чем в 2 раза"
   ]
  },
  {
   "cell_type": "code",
   "execution_count": 337,
   "id": "0f38521e-01f5-4187-a5e7-eece198a9545",
   "metadata": {},
   "outputs": [
    {
     "data": {
      "text/plain": [
       "24.41"
      ]
     },
     "execution_count": 337,
     "metadata": {},
     "output_type": "execute_result"
    }
   ],
   "source": [
    "# Давайте вычислим среднее кол-во посещений лекций для первых head_tail_slice студентов\n",
    "new_df.head(head_tail_slice).lectures_attended.mean()"
   ]
  },
  {
   "cell_type": "code",
   "execution_count": 338,
   "id": "f0d74e5f-83c7-4657-833a-399cd2d56b6a",
   "metadata": {},
   "outputs": [
    {
     "data": {
      "text/plain": [
       "0.044"
      ]
     },
     "execution_count": 338,
     "metadata": {},
     "output_type": "execute_result"
    }
   ],
   "source": [
    "# ... и последних head_tail_slice студентов в нашем отсортированном датасете\n",
    "new_df.tail(head_tail_slice).lectures_attended.mean()\n",
    "# ... очевидно, что уровень посещяемости лекций заметно коррелирует с кол-вом правильных ответов у студентов"
   ]
  },
  {
   "cell_type": "code",
   "execution_count": 339,
   "id": "67442019-01c8-4bc4-a112-4534dddc85ab",
   "metadata": {},
   "outputs": [
    {
     "data": {
      "text/plain": [
       "1.086"
      ]
     },
     "execution_count": 339,
     "metadata": {},
     "output_type": "execute_result"
    }
   ],
   "source": [
    "# проведем такие же наблюдения для признака prior_question_had_explanation относительно общего кол-ва вопросов\n",
    "round(new_df.head(head_tail_slice).prior_question_had_explanation.mean() / \\\n",
    "(new_df.head(head_tail_slice).correct_answers.count() + new_df.head(head_tail_slice).incorrect_answers.count()), 3)"
   ]
  },
  {
   "cell_type": "code",
   "execution_count": 341,
   "id": "41608007-520a-4681-925a-986fd7bba8f5",
   "metadata": {},
   "outputs": [
    {
     "data": {
      "text/plain": [
       "0.004"
      ]
     },
     "execution_count": 341,
     "metadata": {},
     "output_type": "execute_result"
    }
   ],
   "source": [
    "round(new_df.tail(head_tail_slice).prior_question_had_explanation.mean() / \\\n",
    "(new_df.tail(head_tail_slice).correct_answers.count() + new_df.tail(head_tail_slice).incorrect_answers.count()), 3)\n",
    "# наш ТОР студентов здорово пополняет знания за счет продуктивного опыта прохождения тестов и получая\n",
    "# и закрепляя знания, изучая разъяснения к ответам на вопросы"
   ]
  },
  {
   "cell_type": "code",
   "execution_count": 342,
   "id": "dbd3eb57-3beb-4165-acde-fc61bb7675ec",
   "metadata": {},
   "outputs": [
    {
     "data": {
      "text/plain": [
       "0.76"
      ]
     },
     "execution_count": 342,
     "metadata": {},
     "output_type": "execute_result"
    }
   ],
   "source": [
    "# проведем такие же наблюдения для признака car_pqhe_index\n",
    "round(new_df.head(head_tail_slice).car_pqhe_index.mean(), 2)\n"
   ]
  },
  {
   "cell_type": "code",
   "execution_count": 343,
   "id": "66eae296-e693-4d12-917b-9d497a9762c1",
   "metadata": {},
   "outputs": [
    {
     "data": {
      "text/plain": [
       "0.05"
      ]
     },
     "execution_count": 343,
     "metadata": {},
     "output_type": "execute_result"
    }
   ],
   "source": [
    "round(new_df.tail(head_tail_slice).car_pqhe_index.mean(), 2)\n",
    "# видим, что индекс для первых head_tail_slice студентов выше, чем у последних, что может \n",
    "# объясняться вкладом разъяснений на вопросы в усвоение материала студентами"
   ]
  },
  {
   "cell_type": "code",
   "execution_count": 344,
   "id": "8ce0c69c-55b5-4b40-97dd-20e83d6b9db9",
   "metadata": {},
   "outputs": [
    {
     "data": {
      "text/plain": [
       "0.61"
      ]
     },
     "execution_count": 344,
     "metadata": {},
     "output_type": "execute_result"
    }
   ],
   "source": [
    "# Здесь посмотрим вклад посещений лекций в правильные ответы на вопросы\n",
    "\n",
    "# new_df[new_df.lectures_attended > 300].correct_answers_rate.mean()\n",
    "round(new_df[new_df.lectures_attended > 0].correct_answers_rate.mean(), 2)\n",
    "# изменяя кол-во песещенных лекций (lectures_attended > 0) можно заметить, \n",
    "# что показатель колеблется в районе 0.6"
   ]
  },
  {
   "cell_type": "code",
   "execution_count": 345,
   "id": "af4a011e-a2bf-4f0b-a65a-06e4a69fca80",
   "metadata": {},
   "outputs": [
    {
     "data": {
      "text/plain": [
       "0.51"
      ]
     },
     "execution_count": 345,
     "metadata": {},
     "output_type": "execute_result"
    }
   ],
   "source": [
    "round(new_df[new_df.lectures_attended == 0].correct_answers_rate.mean(), 2)\n",
    "# и для lectures_attended == 0 мы понимаем, что вклад посещений лекций находится в \n",
    "# районе 0.10 пунктов (около 20%), что показывает нам сравнительно небольшой эффект на способности \n",
    "# студентов правильно отвечать на вопросы, посещая лекции"
   ]
  },
  {
   "cell_type": "code",
   "execution_count": 346,
   "id": "eea9dcca-3a2e-40b7-bc36-554a98126929",
   "metadata": {},
   "outputs": [
    {
     "data": {
      "text/html": [
       "<div>\n",
       "<style scoped>\n",
       "    .dataframe tbody tr th:only-of-type {\n",
       "        vertical-align: middle;\n",
       "    }\n",
       "\n",
       "    .dataframe tbody tr th {\n",
       "        vertical-align: top;\n",
       "    }\n",
       "\n",
       "    .dataframe thead th {\n",
       "        text-align: right;\n",
       "    }\n",
       "</style>\n",
       "<table border=\"1\" class=\"dataframe\">\n",
       "  <thead>\n",
       "    <tr style=\"text-align: right;\">\n",
       "      <th></th>\n",
       "      <th>user_id</th>\n",
       "      <th>lectures_attended</th>\n",
       "      <th>correct_answers</th>\n",
       "      <th>incorrect_answers</th>\n",
       "      <th>correct_answers_rate</th>\n",
       "      <th>prior_question_had_explanation</th>\n",
       "      <th>car_pqhe_index</th>\n",
       "    </tr>\n",
       "  </thead>\n",
       "  <tbody>\n",
       "    <tr>\n",
       "      <th>1283420</th>\n",
       "      <td>1283420.0</td>\n",
       "      <td>93.0</td>\n",
       "      <td>6196.0</td>\n",
       "      <td>1280.0</td>\n",
       "      <td>0.828785</td>\n",
       "      <td>7465.0</td>\n",
       "      <td>1.693415</td>\n",
       "    </tr>\n",
       "    <tr>\n",
       "      <th>4421282</th>\n",
       "      <td>4421282.0</td>\n",
       "      <td>2.0</td>\n",
       "      <td>5271.0</td>\n",
       "      <td>1689.0</td>\n",
       "      <td>0.757328</td>\n",
       "      <td>6929.0</td>\n",
       "      <td>0.352157</td>\n",
       "    </tr>\n",
       "    <tr>\n",
       "      <th>3838215</th>\n",
       "      <td>3838215.0</td>\n",
       "      <td>123.0</td>\n",
       "      <td>5120.0</td>\n",
       "      <td>1643.0</td>\n",
       "      <td>0.757060</td>\n",
       "      <td>6419.0</td>\n",
       "      <td>0.520523</td>\n",
       "    </tr>\n",
       "    <tr>\n",
       "      <th>11610328</th>\n",
       "      <td>11610328.0</td>\n",
       "      <td>13.0</td>\n",
       "      <td>5055.0</td>\n",
       "      <td>1485.0</td>\n",
       "      <td>0.772936</td>\n",
       "      <td>6527.0</td>\n",
       "      <td>1.093709</td>\n",
       "    </tr>\n",
       "    <tr>\n",
       "      <th>9418512</th>\n",
       "      <td>9418512.0</td>\n",
       "      <td>221.0</td>\n",
       "      <td>4421.0</td>\n",
       "      <td>2840.0</td>\n",
       "      <td>0.608869</td>\n",
       "      <td>7118.0</td>\n",
       "      <td>1.018419</td>\n",
       "    </tr>\n",
       "  </tbody>\n",
       "</table>\n",
       "</div>"
      ],
      "text/plain": [
       "             user_id  lectures_attended  correct_answers  incorrect_answers  \\\n",
       "1283420    1283420.0               93.0           6196.0             1280.0   \n",
       "4421282    4421282.0                2.0           5271.0             1689.0   \n",
       "3838215    3838215.0              123.0           5120.0             1643.0   \n",
       "11610328  11610328.0               13.0           5055.0             1485.0   \n",
       "9418512    9418512.0              221.0           4421.0             2840.0   \n",
       "\n",
       "          correct_answers_rate  prior_question_had_explanation  car_pqhe_index  \n",
       "1283420               0.828785                          7465.0        1.693415  \n",
       "4421282               0.757328                          6929.0        0.352157  \n",
       "3838215               0.757060                          6419.0        0.520523  \n",
       "11610328              0.772936                          6527.0        1.093709  \n",
       "9418512               0.608869                          7118.0        1.018419  "
      ]
     },
     "execution_count": 346,
     "metadata": {},
     "output_type": "execute_result"
    }
   ],
   "source": [
    "new_df.head()\n"
   ]
  },
  {
   "cell_type": "code",
   "execution_count": 348,
   "id": "3c24044e-d204-4e8c-a183-1765e75a9b5d",
   "metadata": {},
   "outputs": [],
   "source": [
    "# В этой секции проверим возможную (но не доказуемую) связь признака tags в questions датасете и tag в lectures"
   ]
  },
  {
   "cell_type": "code",
   "execution_count": 349,
   "id": "5a5377ac-1398-44df-b6c1-9264789e54da",
   "metadata": {},
   "outputs": [],
   "source": [
    "ldf = pd.read_csv('data/lectures.csv')\n",
    "qdf = pd.read_csv('data/questions.csv')"
   ]
  },
  {
   "cell_type": "code",
   "execution_count": 350,
   "id": "19534ab1-88cc-47d6-ac14-3cd6d33b8b63",
   "metadata": {},
   "outputs": [],
   "source": [
    "# уберем единственную строчку в questions датасете, где в ячейке tags пустое значение\n",
    "new_qdf = qdf[qdf.tags.notna()].copy()"
   ]
  },
  {
   "cell_type": "code",
   "execution_count": 351,
   "id": "ac7457fd-37da-44ad-805b-c13273517803",
   "metadata": {},
   "outputs": [],
   "source": [
    "new_qdf['tags_list'] = new_qdf.tags.apply(lambda x: [int(tags_list) for tags_list in x.split()])"
   ]
  },
  {
   "cell_type": "code",
   "execution_count": 352,
   "id": "136152f3-44b7-4148-b4af-9fed8f02cbf9",
   "metadata": {},
   "outputs": [
    {
     "data": {
      "text/plain": [
       "(0, 187, 188)"
      ]
     },
     "execution_count": 352,
     "metadata": {},
     "output_type": "execute_result"
    }
   ],
   "source": [
    "# Посмотрим, что из себя представляют данные признака tags в датасете questions\n",
    "qdf_tags_set = set(new_qdf.tags_list.sum())\n",
    "min(qdf_tags_set), max(qdf_tags_set), len(qdf_tags_set)    # диапазон значений и кол-во уникальных"
   ]
  },
  {
   "cell_type": "code",
   "execution_count": 353,
   "id": "25af38db-f22b-4cf1-aab2-87e624abc034",
   "metadata": {},
   "outputs": [
    {
     "data": {
      "text/plain": [
       "lecture_id    0.0\n",
       "tag           0.0\n",
       "part          0.0\n",
       "type_of       0.0\n",
       "dtype: float64"
      ]
     },
     "execution_count": 353,
     "metadata": {},
     "output_type": "execute_result"
    }
   ],
   "source": [
    "# Проверим lectures на наличие пустых значений \n",
    "ldf.isna().mean()"
   ]
  },
  {
   "cell_type": "code",
   "execution_count": 354,
   "id": "7a23a513-b57b-4e9e-8bc2-5919a164bc33",
   "metadata": {},
   "outputs": [
    {
     "data": {
      "text/plain": [
       "(0, 187, 151)"
      ]
     },
     "execution_count": 354,
     "metadata": {},
     "output_type": "execute_result"
    }
   ],
   "source": [
    "# Посмотрим, что из себя представляют данные признака tag в датасете lectures\n",
    "\n",
    "new_ldf = ldf.copy()\n",
    "ldf_tag_set = set(new_ldf.tag)\n",
    "min(ldf_tag_set), max(ldf_tag_set), len(ldf_tag_set)    # диапазон значений и кол-во уникальных\n",
    "\n",
    "# В итоге видим, что ряды значений в tags и tag похожи и могут иметь связь между собой. \n",
    "# Т.к. в задании доп. информации по этим признакам нет, то большей инф-ции об этих признаках у нас не будет"
   ]
  },
  {
   "cell_type": "code",
   "execution_count": 355,
   "id": "039169f6-78dc-41d7-b36c-19b1f0812ca2",
   "metadata": {},
   "outputs": [
    {
     "data": {
      "text/plain": [
       "count    1.012303e+08\n",
       "mean     5.219605e+03\n",
       "std      3.866359e+03\n",
       "min      0.000000e+00\n",
       "25%      2.063000e+03\n",
       "50%      5.026000e+03\n",
       "75%      7.425000e+03\n",
       "max      3.273600e+04\n",
       "Name: content_id, dtype: float64"
      ]
     },
     "execution_count": 355,
     "metadata": {},
     "output_type": "execute_result"
    }
   ],
   "source": [
    "tdf_full.content_id.describe()"
   ]
  },
  {
   "cell_type": "code",
   "execution_count": 356,
   "id": "265d49b0-13a1-4e1f-896c-38405277ce4b",
   "metadata": {},
   "outputs": [
    {
     "data": {
      "text/plain": [
       "count    13523.000000\n",
       "mean      6760.510907\n",
       "std       3903.857783\n",
       "min          0.000000\n",
       "25%       3379.500000\n",
       "50%       6761.000000\n",
       "75%      10140.000000\n",
       "max      13522.000000\n",
       "Name: bundle_id, dtype: float64"
      ]
     },
     "execution_count": 356,
     "metadata": {},
     "output_type": "execute_result"
    }
   ],
   "source": [
    "qdf.bundle_id.describe()"
   ]
  },
  {
   "cell_type": "code",
   "execution_count": 357,
   "id": "73591059-4261-4082-9764-1577db856890",
   "metadata": {},
   "outputs": [
    {
     "data": {
      "text/plain": [
       "count    418.000000\n",
       "mean       4.267943\n",
       "std        1.872424\n",
       "min        1.000000\n",
       "25%        2.000000\n",
       "50%        5.000000\n",
       "75%        6.000000\n",
       "max        7.000000\n",
       "Name: part, dtype: float64"
      ]
     },
     "execution_count": 357,
     "metadata": {},
     "output_type": "execute_result"
    }
   ],
   "source": [
    "ldf.part.describe()"
   ]
  },
  {
   "cell_type": "code",
   "execution_count": 358,
   "id": "d256098c-9276-48f5-b428-fa5d865e97af",
   "metadata": {},
   "outputs": [
    {
     "data": {
      "text/plain": [
       "13782"
      ]
     },
     "execution_count": 358,
     "metadata": {},
     "output_type": "execute_result"
    }
   ],
   "source": [
    "tdf_full.content_id.nunique()"
   ]
  },
  {
   "cell_type": "code",
   "execution_count": 359,
   "id": "66793326-5a0b-499f-a2b3-d71f166dfadb",
   "metadata": {},
   "outputs": [
    {
     "data": {
      "text/plain": [
       "count    1.012303e+08\n",
       "mean     5.219605e+03\n",
       "std      3.866359e+03\n",
       "min      0.000000e+00\n",
       "25%      2.063000e+03\n",
       "50%      5.026000e+03\n",
       "75%      7.425000e+03\n",
       "max      3.273600e+04\n",
       "Name: content_id, dtype: float64"
      ]
     },
     "execution_count": 359,
     "metadata": {},
     "output_type": "execute_result"
    }
   ],
   "source": [
    "tdf_full.content_id.describe()"
   ]
  },
  {
   "cell_type": "code",
   "execution_count": 360,
   "id": "772da669-d1d1-4367-bbd6-cb7321c8a63b",
   "metadata": {},
   "outputs": [
    {
     "data": {
      "text/plain": [
       "count      418.000000\n",
       "mean     16983.401914\n",
       "std       9426.164660\n",
       "min         89.000000\n",
       "25%       9026.250000\n",
       "50%      17161.500000\n",
       "75%      24906.250000\n",
       "max      32736.000000\n",
       "Name: lecture_id, dtype: float64"
      ]
     },
     "execution_count": 360,
     "metadata": {},
     "output_type": "execute_result"
    }
   ],
   "source": [
    "ldf.lecture_id.describe()"
   ]
  },
  {
   "cell_type": "code",
   "execution_count": 361,
   "id": "e7e4b087-6478-4bae-b580-907d5fec42cf",
   "metadata": {},
   "outputs": [],
   "source": [
    "# Заметим, что lecture_id в lecture имеет такое же макс значение, что и content_id в train\n",
    "# Попробуем выделить множества значений"
   ]
  },
  {
   "cell_type": "code",
   "execution_count": 362,
   "id": "95527e4a-6b79-4189-a881-19c9cb969de4",
   "metadata": {},
   "outputs": [
    {
     "data": {
      "text/plain": [
       "418"
      ]
     },
     "execution_count": 362,
     "metadata": {},
     "output_type": "execute_result"
    }
   ],
   "source": [
    "lecture_ids = set(new_ldf.lecture_id)\n",
    "len(lecture_ids)"
   ]
  },
  {
   "cell_type": "code",
   "execution_count": 363,
   "id": "59d99aa3-e076-412e-934b-779f0c13d360",
   "metadata": {},
   "outputs": [
    {
     "data": {
      "text/plain": [
       "13782"
      ]
     },
     "execution_count": 363,
     "metadata": {},
     "output_type": "execute_result"
    }
   ],
   "source": [
    "t_content_ids = set(tdf_full.content_id)\n",
    "len(t_content_ids)\n",
    "\n",
    "# Но t_content_ids содержит в себе намного больше id, чем lecture_ids"
   ]
  },
  {
   "cell_type": "code",
   "execution_count": 364,
   "id": "dee4d9f4-4372-4132-8f64-ec21cc88801d",
   "metadata": {},
   "outputs": [
    {
     "data": {
      "text/plain": [
       "417"
      ]
     },
     "execution_count": 364,
     "metadata": {},
     "output_type": "execute_result"
    }
   ],
   "source": [
    "# Найдем пересечение двух множеств\n",
    "len(t_content_ids.intersection(lecture_ids))"
   ]
  },
  {
   "cell_type": "code",
   "execution_count": 365,
   "id": "ef9f765c-e81c-4d28-b094-a2d81f40a341",
   "metadata": {
    "tags": []
   },
   "outputs": [
    {
     "data": {
      "text/plain": [
       "{28098}"
      ]
     },
     "execution_count": 365,
     "metadata": {},
     "output_type": "execute_result"
    }
   ],
   "source": [
    "# Как можно заметить, 417 id из 418 встречаются в обоих множествах\n",
    "# Найдем id, который есть в lecture_ids и его нет в t_content_ids\n",
    "lecture_ids.difference(t_content_ids)    "
   ]
  },
  {
   "cell_type": "code",
   "execution_count": 366,
   "id": "7576dfb1-c9d0-4920-aae9-9c87943e7795",
   "metadata": {},
   "outputs": [
    {
     "data": {
      "text/html": [
       "<div>\n",
       "<style scoped>\n",
       "    .dataframe tbody tr th:only-of-type {\n",
       "        vertical-align: middle;\n",
       "    }\n",
       "\n",
       "    .dataframe tbody tr th {\n",
       "        vertical-align: top;\n",
       "    }\n",
       "\n",
       "    .dataframe thead th {\n",
       "        text-align: right;\n",
       "    }\n",
       "</style>\n",
       "<table border=\"1\" class=\"dataframe\">\n",
       "  <thead>\n",
       "    <tr style=\"text-align: right;\">\n",
       "      <th></th>\n",
       "      <th>row_id</th>\n",
       "      <th>timestamp</th>\n",
       "      <th>user_id</th>\n",
       "      <th>content_id</th>\n",
       "      <th>content_type_id</th>\n",
       "      <th>task_container_id</th>\n",
       "      <th>user_answer</th>\n",
       "      <th>answered_correctly</th>\n",
       "      <th>prior_question_elapsed_time</th>\n",
       "      <th>prior_question_had_explanation</th>\n",
       "    </tr>\n",
       "  </thead>\n",
       "  <tbody>\n",
       "  </tbody>\n",
       "</table>\n",
       "</div>"
      ],
      "text/plain": [
       "Empty DataFrame\n",
       "Columns: [row_id, timestamp, user_id, content_id, content_type_id, task_container_id, user_answer, answered_correctly, prior_question_elapsed_time, prior_question_had_explanation]\n",
       "Index: []"
      ]
     },
     "execution_count": 366,
     "metadata": {},
     "output_type": "execute_result"
    }
   ],
   "source": [
    "# Перепроверим, что content_id = 28098 не встречается в train\n",
    "tdf_full[tdf_full.content_id == 28098]\n",
    "# Наблюдение: т.е. мы нашли лекцию, которую не посетил ни один студент из нашего датасета train"
   ]
  },
  {
   "cell_type": "code",
   "execution_count": 367,
   "id": "bec0d8ad-ab50-4f77-8711-d19bb3819730",
   "metadata": {},
   "outputs": [],
   "source": [
    "# Проанализиурем question_id в датасете questions\n",
    "question_ids = set(qdf.question_id)"
   ]
  },
  {
   "cell_type": "code",
   "execution_count": 368,
   "id": "9b03cded-e4e3-4b16-bd03-374da88b6099",
   "metadata": {},
   "outputs": [
    {
     "data": {
      "text/plain": [
       "13523"
      ]
     },
     "execution_count": 368,
     "metadata": {},
     "output_type": "execute_result"
    }
   ],
   "source": [
    "len(question_ids)"
   ]
  },
  {
   "cell_type": "code",
   "execution_count": 369,
   "id": "86682582-0729-4aa1-a349-1bf7c144956c",
   "metadata": {},
   "outputs": [
    {
     "data": {
      "text/plain": [
       "13523"
      ]
     },
     "execution_count": 369,
     "metadata": {},
     "output_type": "execute_result"
    }
   ],
   "source": [
    "len(t_content_ids.intersection(question_ids))"
   ]
  },
  {
   "cell_type": "code",
   "execution_count": 370,
   "id": "437acffc-544d-4fb9-99dd-41de843ba1f9",
   "metadata": {},
   "outputs": [
    {
     "data": {
      "text/plain": [
       "158"
      ]
     },
     "execution_count": 370,
     "metadata": {},
     "output_type": "execute_result"
    }
   ],
   "source": [
    "len(lecture_ids.intersection(question_ids))"
   ]
  },
  {
   "cell_type": "code",
   "execution_count": 371,
   "id": "f2368299-e725-4514-a164-b1300007228b",
   "metadata": {},
   "outputs": [],
   "source": [
    "# Можно заметить, что 13523 + 417 - 158 = 13782, а это содержимое нашего t_content_ids\n",
    "# Т.е. content_id в датасете train состоит из идентификаторов лекций и вопросов\n",
    "# 158 идентификаторов совпадают в лекциях и вопросах (lectures & questions)"
   ]
  },
  {
   "cell_type": "code",
   "execution_count": 372,
   "id": "4b18ae70-d1a9-44a3-ab95-9d699bd4cc4c",
   "metadata": {},
   "outputs": [],
   "source": [
    "# Посмотрим, как выглядят записи для одного из 158 id\n",
    "lecture_ids_sorted = list(lecture_ids.intersection(question_ids))\n",
    "lecture_ids_sorted.sort()"
   ]
  },
  {
   "cell_type": "code",
   "execution_count": 373,
   "id": "eb61dd27",
   "metadata": {},
   "outputs": [
    {
     "data": {
      "text/html": [
       "<div>\n",
       "<style scoped>\n",
       "    .dataframe tbody tr th:only-of-type {\n",
       "        vertical-align: middle;\n",
       "    }\n",
       "\n",
       "    .dataframe tbody tr th {\n",
       "        vertical-align: top;\n",
       "    }\n",
       "\n",
       "    .dataframe thead th {\n",
       "        text-align: right;\n",
       "    }\n",
       "</style>\n",
       "<table border=\"1\" class=\"dataframe\">\n",
       "  <thead>\n",
       "    <tr style=\"text-align: right;\">\n",
       "      <th></th>\n",
       "      <th>row_id</th>\n",
       "      <th>timestamp</th>\n",
       "      <th>user_id</th>\n",
       "      <th>content_id</th>\n",
       "      <th>content_type_id</th>\n",
       "      <th>task_container_id</th>\n",
       "      <th>user_answer</th>\n",
       "      <th>answered_correctly</th>\n",
       "      <th>prior_question_elapsed_time</th>\n",
       "      <th>prior_question_had_explanation</th>\n",
       "    </tr>\n",
       "  </thead>\n",
       "  <tbody>\n",
       "    <tr>\n",
       "      <th>2210</th>\n",
       "      <td>2210</td>\n",
       "      <td>2932227530</td>\n",
       "      <td>24418</td>\n",
       "      <td>89</td>\n",
       "      <td>1</td>\n",
       "      <td>323</td>\n",
       "      <td>-1</td>\n",
       "      <td>-1</td>\n",
       "      <td>NaN</td>\n",
       "      <td>False</td>\n",
       "    </tr>\n",
       "    <tr>\n",
       "      <th>4727</th>\n",
       "      <td>4727</td>\n",
       "      <td>6899759173</td>\n",
       "      <td>24418</td>\n",
       "      <td>89</td>\n",
       "      <td>0</td>\n",
       "      <td>2259</td>\n",
       "      <td>1</td>\n",
       "      <td>1</td>\n",
       "      <td>27333.0</td>\n",
       "      <td>True</td>\n",
       "    </tr>\n",
       "    <tr>\n",
       "      <th>16462</th>\n",
       "      <td>16462</td>\n",
       "      <td>7845691644</td>\n",
       "      <td>141455</td>\n",
       "      <td>89</td>\n",
       "      <td>1</td>\n",
       "      <td>1415</td>\n",
       "      <td>-1</td>\n",
       "      <td>-1</td>\n",
       "      <td>NaN</td>\n",
       "      <td>False</td>\n",
       "    </tr>\n",
       "    <tr>\n",
       "      <th>24543</th>\n",
       "      <td>24543</td>\n",
       "      <td>18154584339</td>\n",
       "      <td>408250</td>\n",
       "      <td>89</td>\n",
       "      <td>0</td>\n",
       "      <td>373</td>\n",
       "      <td>1</td>\n",
       "      <td>1</td>\n",
       "      <td>21000.0</td>\n",
       "      <td>True</td>\n",
       "    </tr>\n",
       "    <tr>\n",
       "      <th>28200</th>\n",
       "      <td>28200</td>\n",
       "      <td>328259589</td>\n",
       "      <td>508795</td>\n",
       "      <td>89</td>\n",
       "      <td>0</td>\n",
       "      <td>22</td>\n",
       "      <td>0</td>\n",
       "      <td>0</td>\n",
       "      <td>13000.0</td>\n",
       "      <td>True</td>\n",
       "    </tr>\n",
       "    <tr>\n",
       "      <th>...</th>\n",
       "      <td>...</td>\n",
       "      <td>...</td>\n",
       "      <td>...</td>\n",
       "      <td>...</td>\n",
       "      <td>...</td>\n",
       "      <td>...</td>\n",
       "      <td>...</td>\n",
       "      <td>...</td>\n",
       "      <td>...</td>\n",
       "      <td>...</td>\n",
       "    </tr>\n",
       "    <tr>\n",
       "      <th>101216615</th>\n",
       "      <td>101216615</td>\n",
       "      <td>9035474736</td>\n",
       "      <td>2147083529</td>\n",
       "      <td>89</td>\n",
       "      <td>1</td>\n",
       "      <td>462</td>\n",
       "      <td>-1</td>\n",
       "      <td>-1</td>\n",
       "      <td>NaN</td>\n",
       "      <td>False</td>\n",
       "    </tr>\n",
       "    <tr>\n",
       "      <th>101217447</th>\n",
       "      <td>101217447</td>\n",
       "      <td>5774172818</td>\n",
       "      <td>2147143229</td>\n",
       "      <td>89</td>\n",
       "      <td>1</td>\n",
       "      <td>445</td>\n",
       "      <td>-1</td>\n",
       "      <td>-1</td>\n",
       "      <td>NaN</td>\n",
       "      <td>False</td>\n",
       "    </tr>\n",
       "    <tr>\n",
       "      <th>101225176</th>\n",
       "      <td>101225176</td>\n",
       "      <td>1473482129</td>\n",
       "      <td>2147413636</td>\n",
       "      <td>89</td>\n",
       "      <td>1</td>\n",
       "      <td>612</td>\n",
       "      <td>-1</td>\n",
       "      <td>-1</td>\n",
       "      <td>NaN</td>\n",
       "      <td>False</td>\n",
       "    </tr>\n",
       "    <tr>\n",
       "      <th>101226772</th>\n",
       "      <td>101226772</td>\n",
       "      <td>4753510931</td>\n",
       "      <td>2147413636</td>\n",
       "      <td>89</td>\n",
       "      <td>0</td>\n",
       "      <td>1789</td>\n",
       "      <td>1</td>\n",
       "      <td>1</td>\n",
       "      <td>23000.0</td>\n",
       "      <td>True</td>\n",
       "    </tr>\n",
       "    <tr>\n",
       "      <th>101229171</th>\n",
       "      <td>101229171</td>\n",
       "      <td>2300304011</td>\n",
       "      <td>2147470770</td>\n",
       "      <td>89</td>\n",
       "      <td>1</td>\n",
       "      <td>168</td>\n",
       "      <td>-1</td>\n",
       "      <td>-1</td>\n",
       "      <td>NaN</td>\n",
       "      <td>False</td>\n",
       "    </tr>\n",
       "  </tbody>\n",
       "</table>\n",
       "<p>24468 rows × 10 columns</p>\n",
       "</div>"
      ],
      "text/plain": [
       "              row_id    timestamp     user_id  content_id  content_type_id  \\\n",
       "2210            2210   2932227530       24418          89                1   \n",
       "4727            4727   6899759173       24418          89                0   \n",
       "16462          16462   7845691644      141455          89                1   \n",
       "24543          24543  18154584339      408250          89                0   \n",
       "28200          28200    328259589      508795          89                0   \n",
       "...              ...          ...         ...         ...              ...   \n",
       "101216615  101216615   9035474736  2147083529          89                1   \n",
       "101217447  101217447   5774172818  2147143229          89                1   \n",
       "101225176  101225176   1473482129  2147413636          89                1   \n",
       "101226772  101226772   4753510931  2147413636          89                0   \n",
       "101229171  101229171   2300304011  2147470770          89                1   \n",
       "\n",
       "           task_container_id  user_answer  answered_correctly  \\\n",
       "2210                     323           -1                  -1   \n",
       "4727                    2259            1                   1   \n",
       "16462                   1415           -1                  -1   \n",
       "24543                    373            1                   1   \n",
       "28200                     22            0                   0   \n",
       "...                      ...          ...                 ...   \n",
       "101216615                462           -1                  -1   \n",
       "101217447                445           -1                  -1   \n",
       "101225176                612           -1                  -1   \n",
       "101226772               1789            1                   1   \n",
       "101229171                168           -1                  -1   \n",
       "\n",
       "           prior_question_elapsed_time prior_question_had_explanation  \n",
       "2210                               NaN                          False  \n",
       "4727                           27333.0                           True  \n",
       "16462                              NaN                          False  \n",
       "24543                          21000.0                           True  \n",
       "28200                          13000.0                           True  \n",
       "...                                ...                            ...  \n",
       "101216615                          NaN                          False  \n",
       "101217447                          NaN                          False  \n",
       "101225176                          NaN                          False  \n",
       "101226772                      23000.0                           True  \n",
       "101229171                          NaN                          False  \n",
       "\n",
       "[24468 rows x 10 columns]"
      ]
     },
     "execution_count": 196,
     "metadata": {},
     "output_type": "execute_result"
    }
   ],
   "source": [
    "tdf_full[tdf_full.content_id == lecture_ids_sorted[0]]    # возьмем 1й элемент\n",
    "# и обратим внимание, что, действительно, записи лекций (user_answer = -1) идут вперемешку с вопросами "
   ]
  },
  {
   "cell_type": "code",
   "execution_count": 376,
   "id": "977f3b3a-8e9c-4536-b9de-29cc04229ffa",
   "metadata": {},
   "outputs": [],
   "source": [
    "# Теперь проанализируем вопросы, на которые не смогли ответить \"чемпионы\""
   ]
  },
  {
   "cell_type": "code",
   "execution_count": 388,
   "id": "6278c8aa-abe3-4949-8931-c457d7300b45",
   "metadata": {},
   "outputs": [
    {
     "data": {
      "text/html": [
       "<div>\n",
       "<style scoped>\n",
       "    .dataframe tbody tr th:only-of-type {\n",
       "        vertical-align: middle;\n",
       "    }\n",
       "\n",
       "    .dataframe tbody tr th {\n",
       "        vertical-align: top;\n",
       "    }\n",
       "\n",
       "    .dataframe thead th {\n",
       "        text-align: right;\n",
       "    }\n",
       "</style>\n",
       "<table border=\"1\" class=\"dataframe\">\n",
       "  <thead>\n",
       "    <tr style=\"text-align: right;\">\n",
       "      <th></th>\n",
       "      <th>user_id</th>\n",
       "      <th>lectures_attended</th>\n",
       "      <th>correct_answers</th>\n",
       "      <th>incorrect_answers</th>\n",
       "      <th>correct_answers_rate</th>\n",
       "      <th>prior_question_had_explanation</th>\n",
       "      <th>car_pqhe_index</th>\n",
       "    </tr>\n",
       "  </thead>\n",
       "  <tbody>\n",
       "    <tr>\n",
       "      <th>14</th>\n",
       "      <td>13475643</td>\n",
       "      <td>7.0</td>\n",
       "      <td>766.0</td>\n",
       "      <td>105.0</td>\n",
       "      <td>0.879449</td>\n",
       "      <td>859.0</td>\n",
       "      <td>0.768982</td>\n",
       "    </tr>\n",
       "    <tr>\n",
       "      <th>28</th>\n",
       "      <td>11938837</td>\n",
       "      <td>14.0</td>\n",
       "      <td>1219.0</td>\n",
       "      <td>211.0</td>\n",
       "      <td>0.852448</td>\n",
       "      <td>1367.0</td>\n",
       "      <td>0.505746</td>\n",
       "    </tr>\n",
       "    <tr>\n",
       "      <th>31</th>\n",
       "      <td>9199721</td>\n",
       "      <td>7.0</td>\n",
       "      <td>1199.0</td>\n",
       "      <td>212.0</td>\n",
       "      <td>0.849752</td>\n",
       "      <td>1380.0</td>\n",
       "      <td>0.419017</td>\n",
       "    </tr>\n",
       "    <tr>\n",
       "      <th>32</th>\n",
       "      <td>3228511</td>\n",
       "      <td>11.0</td>\n",
       "      <td>799.0</td>\n",
       "      <td>144.0</td>\n",
       "      <td>0.847296</td>\n",
       "      <td>894.0</td>\n",
       "      <td>0.518959</td>\n",
       "    </tr>\n",
       "    <tr>\n",
       "      <th>33</th>\n",
       "      <td>4222121</td>\n",
       "      <td>83.0</td>\n",
       "      <td>1176.0</td>\n",
       "      <td>212.0</td>\n",
       "      <td>0.847262</td>\n",
       "      <td>1379.0</td>\n",
       "      <td>1.717298</td>\n",
       "    </tr>\n",
       "  </tbody>\n",
       "</table>\n",
       "</div>"
      ],
      "text/plain": [
       "     user_id  lectures_attended  correct_answers  incorrect_answers  \\\n",
       "14  13475643                7.0            766.0              105.0   \n",
       "28  11938837               14.0           1219.0              211.0   \n",
       "31   9199721                7.0           1199.0              212.0   \n",
       "32   3228511               11.0            799.0              144.0   \n",
       "33   4222121               83.0           1176.0              212.0   \n",
       "\n",
       "    correct_answers_rate  prior_question_had_explanation  car_pqhe_index  \n",
       "14              0.879449                           859.0        0.768982  \n",
       "28              0.852448                          1367.0        0.505746  \n",
       "31              0.849752                          1380.0        0.419017  \n",
       "32              0.847296                           894.0        0.518959  \n",
       "33              0.847262                          1379.0        1.717298  "
      ]
     },
     "execution_count": 388,
     "metadata": {},
     "output_type": "execute_result"
    }
   ],
   "source": [
    "# Возьмем первые 100 студентов, которые показали лучший correct_answers_rate и ответили \n",
    "# на более 500 вопросов\n",
    "df = new_df.sort_values(by='correct_answers_rate', ascending=False, ignore_index=True)\n",
    "df = df[df.correct_answers > 500]\n",
    "df.user_id = pd.to_numeric(df.user_id, downcast=\"integer\")\n",
    "df.head()"
   ]
  },
  {
   "cell_type": "code",
   "execution_count": 389,
   "id": "a7795910-da20-430d-8d31-3b780bd6ac88",
   "metadata": {},
   "outputs": [],
   "source": [
    "top_users = list(df.user_id)"
   ]
  },
  {
   "cell_type": "code",
   "execution_count": 402,
   "id": "25af270d-8e0f-4e7a-9e36-7a6e2de340ae",
   "metadata": {},
   "outputs": [
    {
     "data": {
      "text/plain": [
       "3878    187\n",
       "4120    149\n",
       "6116    146\n",
       "6173    144\n",
       "738     143\n",
       "       ... \n",
       "5624     82\n",
       "5335     82\n",
       "4467     82\n",
       "5348     81\n",
       "58       81\n",
       "Name: content_id, Length: 100, dtype: int64"
      ]
     },
     "execution_count": 402,
     "metadata": {},
     "output_type": "execute_result"
    }
   ],
   "source": [
    "# Найдем искомый список вопросов и ранжируем его по повторяемости. Выведем, скажем, топ-100\n",
    "tdf_full[(tdf_full.user_id.isin(top_users) & (tdf_full.answered_correctly == 0))].content_id.value_counts().head(100)"
   ]
  },
  {
   "cell_type": "code",
   "execution_count": null,
   "id": "cced1d32-a649-4d7a-8bb5-4a5127a6eb7f",
   "metadata": {},
   "outputs": [],
   "source": [
    "# ... такой анализ (выше) можно использовать для понимания недостаточно хорошо раскрытых тем и слабых мест \n",
    "# в материалах или методике обучения"
   ]
  },
  {
   "cell_type": "code",
   "execution_count": 403,
   "id": "0a284d74-4fc7-464d-a38e-3b22de42ca1e",
   "metadata": {},
   "outputs": [
    {
     "data": {
      "text/plain": [
       "count    13523.000000\n",
       "mean         4.264956\n",
       "std          1.652553\n",
       "min          1.000000\n",
       "25%          3.000000\n",
       "50%          5.000000\n",
       "75%          5.000000\n",
       "max          7.000000\n",
       "Name: part, dtype: float64"
      ]
     },
     "execution_count": 403,
     "metadata": {},
     "output_type": "execute_result"
    }
   ],
   "source": [
    "qdf.part.describe()"
   ]
  },
  {
   "cell_type": "code",
   "execution_count": 404,
   "id": "8501a3cf-e68a-4488-b1cb-c9fdfac0a9fe",
   "metadata": {},
   "outputs": [
    {
     "data": {
      "text/plain": [
       "count    418.000000\n",
       "mean       4.267943\n",
       "std        1.872424\n",
       "min        1.000000\n",
       "25%        2.000000\n",
       "50%        5.000000\n",
       "75%        6.000000\n",
       "max        7.000000\n",
       "Name: part, dtype: float64"
      ]
     },
     "execution_count": 404,
     "metadata": {},
     "output_type": "execute_result"
    }
   ],
   "source": [
    "ldf.part.describe()"
   ]
  },
  {
   "cell_type": "code",
   "execution_count": 418,
   "id": "d7c3c73b-2112-4ef4-a4d5-bd490df52a98",
   "metadata": {},
   "outputs": [
    {
     "data": {
      "text/html": [
       "<div>\n",
       "<style scoped>\n",
       "    .dataframe tbody tr th:only-of-type {\n",
       "        vertical-align: middle;\n",
       "    }\n",
       "\n",
       "    .dataframe tbody tr th {\n",
       "        vertical-align: top;\n",
       "    }\n",
       "\n",
       "    .dataframe thead th {\n",
       "        text-align: right;\n",
       "    }\n",
       "</style>\n",
       "<table border=\"1\" class=\"dataframe\">\n",
       "  <thead>\n",
       "    <tr style=\"text-align: right;\">\n",
       "      <th></th>\n",
       "      <th>question_id</th>\n",
       "      <th>bundle_id</th>\n",
       "      <th>correct_answer</th>\n",
       "      <th>part</th>\n",
       "      <th>tags</th>\n",
       "    </tr>\n",
       "  </thead>\n",
       "  <tbody>\n",
       "    <tr>\n",
       "      <th>11627</th>\n",
       "      <td>11627</td>\n",
       "      <td>11627</td>\n",
       "      <td>1</td>\n",
       "      <td>6</td>\n",
       "      <td>1</td>\n",
       "    </tr>\n",
       "    <tr>\n",
       "      <th>11628</th>\n",
       "      <td>11628</td>\n",
       "      <td>11627</td>\n",
       "      <td>2</td>\n",
       "      <td>6</td>\n",
       "      <td>179</td>\n",
       "    </tr>\n",
       "    <tr>\n",
       "      <th>11629</th>\n",
       "      <td>11629</td>\n",
       "      <td>11627</td>\n",
       "      <td>0</td>\n",
       "      <td>6</td>\n",
       "      <td>115</td>\n",
       "    </tr>\n",
       "    <tr>\n",
       "      <th>11630</th>\n",
       "      <td>11630</td>\n",
       "      <td>11627</td>\n",
       "      <td>1</td>\n",
       "      <td>6</td>\n",
       "      <td>27</td>\n",
       "    </tr>\n",
       "  </tbody>\n",
       "</table>\n",
       "</div>"
      ],
      "text/plain": [
       "       question_id  bundle_id  correct_answer  part tags\n",
       "11627        11627      11627               1     6    1\n",
       "11628        11628      11627               2     6  179\n",
       "11629        11629      11627               0     6  115\n",
       "11630        11630      11627               1     6   27"
      ]
     },
     "execution_count": 418,
     "metadata": {},
     "output_type": "execute_result"
    }
   ],
   "source": [
    "# Здесь осваиваю функцию groupby и смотрю, что с ее помощью смогу полезного увидеть в \n",
    "# датасетах questions & lectures\n",
    "qdf_grp = qdf.groupby('part')\n",
    "qdf_df = qdf_grp.get_group(6)\n",
    "qdf_df\n",
    "qdf_df[qdf_df.bundle_id == 11627]"
   ]
  },
  {
   "cell_type": "code",
   "execution_count": 427,
   "id": "8ec90b50-f80e-4e93-a7e4-bad6fedb02f9",
   "metadata": {},
   "outputs": [
    {
     "data": {
      "text/html": [
       "<div>\n",
       "<style scoped>\n",
       "    .dataframe tbody tr th:only-of-type {\n",
       "        vertical-align: middle;\n",
       "    }\n",
       "\n",
       "    .dataframe tbody tr th {\n",
       "        vertical-align: top;\n",
       "    }\n",
       "\n",
       "    .dataframe thead th {\n",
       "        text-align: right;\n",
       "    }\n",
       "</style>\n",
       "<table border=\"1\" class=\"dataframe\">\n",
       "  <thead>\n",
       "    <tr style=\"text-align: right;\">\n",
       "      <th></th>\n",
       "      <th>lecture_id</th>\n",
       "      <th>tag</th>\n",
       "      <th>part</th>\n",
       "      <th>type_of</th>\n",
       "    </tr>\n",
       "  </thead>\n",
       "  <tbody>\n",
       "    <tr>\n",
       "      <th>394</th>\n",
       "      <td>31108</td>\n",
       "      <td>115</td>\n",
       "      <td>6</td>\n",
       "      <td>concept</td>\n",
       "    </tr>\n",
       "  </tbody>\n",
       "</table>\n",
       "</div>"
      ],
      "text/plain": [
       "     lecture_id  tag  part  type_of\n",
       "394       31108  115     6  concept"
      ]
     },
     "execution_count": 427,
     "metadata": {},
     "output_type": "execute_result"
    }
   ],
   "source": [
    "ldf_grp = ldf.groupby('part')\n",
    "ldf_df = ldf_grp.get_group(6)\n",
    "ldf_df[ldf_df.tag == 115]\n",
    "# ldf_df\n",
    "# ldf.groupby('part').groups"
   ]
  },
  {
   "cell_type": "code",
   "execution_count": null,
   "id": "820428b4-82cc-4a1e-b8fd-080963c93765",
   "metadata": {},
   "outputs": [],
   "source": [
    "# в датасетах lectures & questions (с применением groupby) более ничего полезного не вижу"
   ]
  }
 ],
 "metadata": {
  "kernelspec": {
   "display_name": "Python 3 (ipykernel)",
   "language": "python",
   "name": "python3"
  },
  "language_info": {
   "codemirror_mode": {
    "name": "ipython",
    "version": 3
   },
   "file_extension": ".py",
   "mimetype": "text/x-python",
   "name": "python",
   "nbconvert_exporter": "python",
   "pygments_lexer": "ipython3",
   "version": "3.9.12"
  }
 },
 "nbformat": 4,
 "nbformat_minor": 5
}
