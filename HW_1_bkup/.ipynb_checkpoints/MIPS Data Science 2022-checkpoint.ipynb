{
 "cells": [
  {
   "cell_type": "code",
   "execution_count": 1,
   "id": "bbd5b127",
   "metadata": {},
   "outputs": [
    {
     "name": "stdout",
     "output_type": "stream",
     "text": [
      "[0, 1, 2, 3, 4, 5, 6, 7, 8, 9]\n"
     ]
    }
   ],
   "source": [
    "l = list(range(10))\n",
    "print(l)"
   ]
  },
  {
   "cell_type": "code",
   "execution_count": 12,
   "id": "c417fbf7",
   "metadata": {},
   "outputs": [
    {
     "name": "stdout",
     "output_type": "stream",
     "text": [
      "[-6]\n",
      "[-6, -5]\n",
      "[-6, -5, -4]\n",
      "[-6, -5, -4, -3]\n",
      "[-6, -5, -4, -3, -2]\n",
      "[-6, -5, -4, -3, -2, -1]\n",
      "[-6, -5, -4, -3, -2, -1, 0]\n",
      "[-6, -5, -4, -3, -2, -1, 0, 1]\n",
      "[-6, -5, -4, -3, -2, -1, 0, 1, 2]\n",
      "[-6, -5, -4, -3, -2, -1, 0, 1, 2, 3]\n",
      "[-6, -5, -4, -3, -2, -1, 0, 1, 2, 3, 4]\n"
     ]
    }
   ],
   "source": [
    "l = []\n",
    "for i in range(-6, 5):\n",
    "    l.append(i)\n",
    "    print(l)"
   ]
  },
  {
   "cell_type": "code",
   "execution_count": 10,
   "id": "31fdb0ce",
   "metadata": {},
   "outputs": [
    {
     "name": "stdout",
     "output_type": "stream",
     "text": [
      "qwe\n"
     ]
    }
   ],
   "source": [
    "print('qwe')"
   ]
  },
  {
   "cell_type": "code",
   "execution_count": 40,
   "id": "7e95d7d4",
   "metadata": {},
   "outputs": [
    {
     "name": "stdout",
     "output_type": "stream",
     "text": [
      "<generator object <lambda>.<locals>.<genexpr> at 0x1065fb4c0>\n"
     ]
    }
   ],
   "source": [
    "a = lambda x: i for i in range(x)\n",
    "print(a(5))\n",
    "#b = [f() for f in a]\n",
    "#print(b)"
   ]
  },
  {
   "cell_type": "code",
   "execution_count": 17,
   "id": "7264ecec",
   "metadata": {},
   "outputs": [
    {
     "data": {
      "text/plain": [
       "<function __main__.<listcomp>.<lambda>()>"
      ]
     },
     "execution_count": 17,
     "metadata": {},
     "output_type": "execute_result"
    }
   ],
   "source": [
    "a[0]"
   ]
  },
  {
   "cell_type": "code",
   "execution_count": 2,
   "id": "371e022d",
   "metadata": {},
   "outputs": [
    {
     "ename": "ModuleNotFoundError",
     "evalue": "No module named 'kaggle_environments'",
     "output_type": "error",
     "traceback": [
      "\u001b[0;31m---------------------------------------------------------------------------\u001b[0m",
      "\u001b[0;31mModuleNotFoundError\u001b[0m                       Traceback (most recent call last)",
      "Input \u001b[0;32mIn [2]\u001b[0m, in \u001b[0;36m<cell line: 7>\u001b[0;34m()\u001b[0m\n\u001b[1;32m      5\u001b[0m \u001b[38;5;28;01mimport\u001b[39;00m \u001b[38;5;21;01mmatplotlib\u001b[39;00m\u001b[38;5;21;01m.\u001b[39;00m\u001b[38;5;21;01mpyplot\u001b[39;00m \u001b[38;5;28;01mas\u001b[39;00m \u001b[38;5;21;01mplt\u001b[39;00m\n\u001b[1;32m      6\u001b[0m \u001b[38;5;28;01mimport\u001b[39;00m \u001b[38;5;21;01mseaborn\u001b[39;00m \u001b[38;5;28;01mas\u001b[39;00m \u001b[38;5;21;01msns\u001b[39;00m\n\u001b[0;32m----> 7\u001b[0m \u001b[38;5;28;01mfrom\u001b[39;00m \u001b[38;5;21;01mkaggle_environments\u001b[39;00m \u001b[38;5;28;01mimport\u001b[39;00m make, evaluate\n",
      "\u001b[0;31mModuleNotFoundError\u001b[0m: No module named 'kaggle_environments'"
     ]
    }
   ],
   "source": [
    "import numpy as np\n",
    "import pandas as pd\n",
    "import random\n",
    "\n",
    "import matplotlib.pyplot as plt\n",
    "import seaborn as sns\n",
    "from kaggle_environments import make, evaluate"
   ]
  }
 ],
 "metadata": {
  "kernelspec": {
   "display_name": "Python 3 (ipykernel)",
   "language": "python",
   "name": "python3"
  },
  "language_info": {
   "codemirror_mode": {
    "name": "ipython",
    "version": 3
   },
   "file_extension": ".py",
   "mimetype": "text/x-python",
   "name": "python",
   "nbconvert_exporter": "python",
   "pygments_lexer": "ipython3",
   "version": "3.9.12"
  }
 },
 "nbformat": 4,
 "nbformat_minor": 5
}
